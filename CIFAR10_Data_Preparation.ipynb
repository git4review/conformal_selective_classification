{
 "cells": [
  {
   "cell_type": "markdown",
   "id": "a7259823",
   "metadata": {},
   "source": [
    "# CIFAR-10 – Step 2: Data → f(x), g(x)\n",
    "\n",
    "This notebook walks through:\n",
    "1. Loading CIFAR-10 with train/val/cal/test splits\n",
    "2. Training a small ResNet18\n",
    "3. Extracting logits (f(x))\n",
    "4. Computing selection scores g(x): MSP, margin, entropy, energy\n",
    "5. (Optional) Temperature scaling on calibration split\n",
    "\n",
    "Use the companion module `cifar10_selective.py` for reusable functions.\n"
   ]
  },
  {
   "cell_type": "code",
   "execution_count": null,
   "id": "85d110f8-87d6-4647-9b49-3b05844dcea3",
   "metadata": {},
   "outputs": [],
   "source": [
    "python cifar10_selective.py \\\n",
    "  --data_root ./data \\\n",
    "  --epochs 5 \\\n",
    "  --batch_size 256 \\\n",
    "  --device cuda \\\n",
    "  --fit_temperature \\\n",
    "  --save_npz ./artifacts/cifar10_scores.npz"
   ]
  },
  {
   "cell_type": "code",
   "execution_count": 1,
   "id": "7211e378",
   "metadata": {},
   "outputs": [],
   "source": [
    "# !pip install torch torchvision scikit-learn  # Uncomment if needed\n",
    "import sys, os\n",
    "sys.path.append('/mnt/data')  # so we can import the helper module directly here during preview\n",
    "from cifar10_selective import (\n",
    "    TrainConfig, set_seed, get_cifar10_dataloaders, create_resnet18_cifar,\n",
    "    train_model, evaluate, get_logits, compute_scores_from_logits, fit_temperature\n",
    ")\n",
    "import numpy as np\n"
   ]
  },
  {
   "cell_type": "code",
   "execution_count": 2,
   "id": "1e87416d",
   "metadata": {
    "collapsed": false,
    "jupyter": {
     "outputs_hidden": false
    }
   },
   "outputs": [],
   "source": [
    "# Config\n",
    "cfg = TrainConfig(\n",
    "    data_root='./data',\n",
    "    batch_size=256,\n",
    "    epochs=5,            # start small; bump later\n",
    "    lr=0.1,\n",
    "    weight_decay=5e-4,\n",
    "    momentum=0.9,\n",
    "    seed=0,\n",
    "    val_ratio=0.1,\n",
    "    cal_ratio=0.2,\n",
    "    num_workers=4,\n",
    "    device='cuda'\n",
    ")\n",
    "set_seed(cfg.seed)\n"
   ]
  },
  {
   "cell_type": "code",
   "execution_count": 3,
   "id": "c7a10733",
   "metadata": {},
   "outputs": [
    {
     "name": "stdout",
     "output_type": "stream",
     "text": [
      "Files already downloaded and verified\n",
      "Files already downloaded and verified\n",
      "Files already downloaded and verified\n",
      "train 35000\n",
      "val 5000\n",
      "cal 10000\n",
      "test 10000\n"
     ]
    }
   ],
   "source": [
    "# Data\n",
    "loaders = get_cifar10_dataloaders(\n",
    "    data_root=cfg.data_root,\n",
    "    batch_size=cfg.batch_size,\n",
    "    val_ratio=cfg.val_ratio,\n",
    "    cal_ratio=cfg.cal_ratio,\n",
    "    seed=cfg.seed,\n",
    "    num_workers=cfg.num_workers,\n",
    ")\n",
    "for k,v in loaders.items():\n",
    "    print(k, len(v.dataset))\n"
   ]
  },
  {
   "cell_type": "code",
   "execution_count": 4,
   "id": "fbcd2112",
   "metadata": {},
   "outputs": [
    {
     "name": "stdout",
     "output_type": "stream",
     "text": [
      "[Epoch 01] train_loss=2.2233  val_loss=1.6820  val_acc=0.3832\n",
      "[Epoch 02] train_loss=1.6769  val_loss=1.5713  val_acc=0.4488\n",
      "[Epoch 03] train_loss=1.4396  val_loss=1.3499  val_acc=0.5106\n",
      "[Epoch 04] train_loss=1.2977  val_loss=1.2622  val_acc=0.5516\n",
      "[Epoch 05] train_loss=1.1823  val_loss=1.1284  val_acc=0.5922\n",
      "{'val_loss': 1.1283957069396973, 'val_acc': 0.5922, 'test_loss': 1.1443219212532043, 'test_acc': 0.5851}\n"
     ]
    }
   ],
   "source": [
    "# Model + quick training\n",
    "model = create_resnet18_cifar(num_classes=10)\n",
    "model = train_model(model, loaders, cfg)\n",
    "val_loss, val_acc = evaluate(model, loaders['val'], device=cfg.device)\n",
    "test_loss, test_acc = evaluate(model, loaders['test'], device=cfg.device)\n",
    "print({'val_loss': val_loss, 'val_acc': val_acc, 'test_loss': test_loss, 'test_acc': test_acc})\n"
   ]
  },
  {
   "cell_type": "code",
   "execution_count": 5,
   "id": "7f75bace",
   "metadata": {},
   "outputs": [
    {
     "name": "stdout",
     "output_type": "stream",
     "text": [
      "Fitted temperature: 1.0050512552261353\n"
     ]
    }
   ],
   "source": [
    "# (Optional) Temperature scaling using calibration split\n",
    "temperature = fit_temperature(model, loaders['cal'], init_temp=1.0, lr=0.01, epochs=50, device=cfg.device)\n",
    "print('Fitted temperature:', temperature)\n"
   ]
  },
  {
   "cell_type": "code",
   "execution_count": 6,
   "id": "2b85792a",
   "metadata": {},
   "outputs": [
    {
     "name": "stdout",
     "output_type": "stream",
     "text": [
      "Keys: ['energy_cal', 'energy_test', 'energy_val', 'entropy_cal', 'entropy_test', 'entropy_val', 'logits_cal', 'logits_test'] ... total= 18\n"
     ]
    }
   ],
   "source": [
    "# Inference: f(x) logits + selection scores g(x)\n",
    "out = {}\n",
    "for split in ['val', 'cal', 'test']:\n",
    "    logits, y = get_logits(model, loaders[split], device=cfg.device)\n",
    "    scores = compute_scores_from_logits(logits, temperature=temperature)\n",
    "    out[f'logits_{split}'] = logits\n",
    "    out[f'y_{split}'] = y\n",
    "    for k, v in scores.items():\n",
    "        out[f'{k}_{split}'] = v\n",
    "print('Keys:', sorted(out.keys())[:8], '... total=', len(out))\n"
   ]
  },
  {
   "cell_type": "code",
   "execution_count": 7,
   "id": "a5a96bf3",
   "metadata": {},
   "outputs": [
    {
     "name": "stdout",
     "output_type": "stream",
     "text": [
      "Saved: ./artifacts/cifar10_calpool_test.npz\n"
     ]
    }
   ],
   "source": [
    "# Save artifacts for Algorithm 1 + evaluation later\n",
    "save_path = './artifacts/cifar10_calpool_test.npz'\n",
    "os.makedirs(os.path.dirname(save_path), exist_ok=True)\n",
    "np.savez_compressed(save_path, **out)\n",
    "print('Saved:', save_path)\n"
   ]
  }
 ],
 "metadata": {
  "kernelspec": {
   "display_name": "Python 3 (ipykernel)",
   "language": "python",
   "name": "python3"
  },
  "language_info": {
   "codemirror_mode": {
    "name": "ipython",
    "version": 3
   },
   "file_extension": ".py",
   "mimetype": "text/x-python",
   "name": "python",
   "nbconvert_exporter": "python",
   "pygments_lexer": "ipython3",
   "version": "3.9.6"
  }
 },
 "nbformat": 4,
 "nbformat_minor": 5
}
